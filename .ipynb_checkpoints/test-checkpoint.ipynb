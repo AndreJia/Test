{
 "cells": [
  {
   "cell_type": "code",
   "execution_count": 15,
   "metadata": {},
   "outputs": [],
   "source": [
    "import json\n",
    "import numpy as np\n",
    "import pandas as pd\n",
    "import matplotlib.pyplot as plt\n",
    "import matplotlib as mpl\n",
    "import urllib.request,urllib.parse\n",
    "import os\n",
    "import time"
   ]
  },
  {
   "cell_type": "code",
   "execution_count": 49,
   "metadata": {},
   "outputs": [],
   "source": [
    "d = json.load(open('./test_data.json', encoding = 'utf-8'))"
   ]
  },
  {
   "cell_type": "code",
   "execution_count": 50,
   "metadata": {},
   "outputs": [
    {
     "data": {
      "text/plain": [
       "271"
      ]
     },
     "execution_count": 50,
     "metadata": {},
     "output_type": "execute_result"
    }
   ],
   "source": [
    "len(d)"
   ]
  },
  {
   "cell_type": "code",
   "execution_count": 51,
   "metadata": {
    "collapsed": true
   },
   "outputs": [
    {
     "data": {
      "text/plain": [
       "dict_keys(['3544', '48117', '49405', '51584', '60581', '60587', '60604', '60606', '60616', '60619', '60631', '60634', '60635', '60639', '60654', '60665', '60671', '60676', '60686', '60707', '60708', '60715', '60737', '60752', '60760', '60762', '60763', '60769', '60772', '60773', '60775', '60782', '60785', '60788', '60799', '60812', '60829', '60832', '60833', '60870', '60885', '60895', '60896', '60899', '61019', '61053', '61094', '61406', '60615', '47329', '60598', '58834', '59018', '60586', '60589', '60602', '60603', '60613', '60620', '60621', '60627', '60632', '60636', '60642', '60651', '60652', '60658', '60659', '60677', '60683', '60688', '60690', '60694', '60695', '60703', '60706', '60714', '60716', '60720', '60722', '60724', '60725', '60730', '60733', '60738', '60742', '60753', '60756', '60759', '60764', '60768', '60771', '60787', '60790', '60827', '60828', '60900', '60901', '61097', '61106', '61132', '61135', '61519', '40552', '61035', '61074', '60583', '39201', '48102', '58758', '59308', '60585', '60590', '60595', '60599', '60617', '60624', '60630', '60638', '60641', '60647', '60653', '60657', '60661', '60666', '60668', '60669', '60675', '60692', '60696', '60698', '60710', '60749', '60750', '60751', '60755', '60757', '60766', '60767', '60776', '60777', '60792', '60795', '60835', '60837', '60846', '60876', '60889', '60898', '61041', '61659', '60645', '60679', '60700', '34511', '60711', '60866', '61212', '2843', '60578', '49823', '60580', '60591', '60592', '60601', '60605', '60610', '60614', '60618', '60622', '60623', '60625', '60644', '60648', '60649', '60667', '60670', '60673', '60678', '60691', '60697', '60699', '60712', '60721', '60723', '60731', '60747', '60765', '60778', '60781', '60791', '60793', '60794', '60796', '60797', '60810', '60836', '60839', '60891', '61046', '61048', '61715', '60628', '60713', '8160', '8246', '8317', '8318', '16304', '39021', '39160', '39190', '39200', '40186', '47774', '47920', '47937', '47961', '48025', '48083', '48721', '49361', '49687', '50263', '52592', '58547', '58575', '58585', '58586', '58610', '58616', '58634', '58778', '58822', '58865', '59137', '59140', '60593', '60594', '60608', '60611', '60637', '60640', '60643', '60660', '60662', '60672', '60693', '60705', '60717', '60719', '60727', '60734', '60739', '60746', '60758', '60761', '60770', '60774', '60825', '61020', '47996', '60689', '61143', '48090', '58744', '60584', '60728', '49315', '47879', '60822'])"
      ]
     },
     "execution_count": 51,
     "metadata": {},
     "output_type": "execute_result"
    }
   ],
   "source": [
    "d.keys()"
   ]
  },
  {
   "cell_type": "code",
   "execution_count": 25,
   "metadata": {
    "scrolled": false
   },
   "outputs": [
    {
     "name": "stdout",
     "output_type": "stream",
     "text": [
      "2020-02-18 18:54:51\n"
     ]
    }
   ],
   "source": [
    "time_local = time.localtime(1582023291)\n",
    "dt = time.strftime(\"%Y-%m-%d %H:%M:%S\",time_local)\n",
    "print(dt)"
   ]
  },
  {
   "cell_type": "code",
   "execution_count": 52,
   "metadata": {},
   "outputs": [
    {
     "data": {
      "text/plain": [
       "dict_keys(['case_id', 'case_type', 'case_zip', 'final_score', 'upload_records'])"
      ]
     },
     "execution_count": 52,
     "metadata": {},
     "output_type": "execute_result"
    }
   ],
   "source": [
    "d['3544']['cases'][0].keys()"
   ]
  },
  {
   "cell_type": "code",
   "execution_count": 53,
   "metadata": {},
   "outputs": [],
   "source": [
    "cases_keys = ['case_id', 'case_type', 'final_score']"
   ]
  },
  {
   "cell_type": "code",
   "execution_count": 89,
   "metadata": {},
   "outputs": [],
   "source": [
    "cases = pd.DataFrame(d['47937']['cases'], columns=cases_keys)"
   ]
  },
  {
   "cell_type": "code",
   "execution_count": 92,
   "metadata": {
    "scrolled": false
   },
   "outputs": [
    {
     "data": {
      "text/html": [
       "<div>\n",
       "<style scoped>\n",
       "    .dataframe tbody tr th:only-of-type {\n",
       "        vertical-align: middle;\n",
       "    }\n",
       "\n",
       "    .dataframe tbody tr th {\n",
       "        vertical-align: top;\n",
       "    }\n",
       "\n",
       "    .dataframe thead th {\n",
       "        text-align: right;\n",
       "    }\n",
       "</style>\n",
       "<table border=\"1\" class=\"dataframe\">\n",
       "  <thead>\n",
       "    <tr style=\"text-align: right;\">\n",
       "      <th></th>\n",
       "      <th>case_id</th>\n",
       "      <th>case_type</th>\n",
       "      <th>final_score</th>\n",
       "    </tr>\n",
       "  </thead>\n",
       "  <tbody>\n",
       "    <tr>\n",
       "      <td>0</td>\n",
       "      <td>2891</td>\n",
       "      <td>数组</td>\n",
       "      <td>100</td>\n",
       "    </tr>\n",
       "    <tr>\n",
       "      <td>137</td>\n",
       "      <td>2626</td>\n",
       "      <td>数字操作</td>\n",
       "      <td>100</td>\n",
       "    </tr>\n",
       "    <tr>\n",
       "      <td>127</td>\n",
       "      <td>2621</td>\n",
       "      <td>数字操作</td>\n",
       "      <td>100</td>\n",
       "    </tr>\n",
       "    <tr>\n",
       "      <td>128</td>\n",
       "      <td>2588</td>\n",
       "      <td>数字操作</td>\n",
       "      <td>100</td>\n",
       "    </tr>\n",
       "    <tr>\n",
       "      <td>129</td>\n",
       "      <td>2620</td>\n",
       "      <td>数字操作</td>\n",
       "      <td>100</td>\n",
       "    </tr>\n",
       "    <tr>\n",
       "      <td>...</td>\n",
       "      <td>...</td>\n",
       "      <td>...</td>\n",
       "      <td>...</td>\n",
       "    </tr>\n",
       "    <tr>\n",
       "      <td>69</td>\n",
       "      <td>2775</td>\n",
       "      <td>线性表</td>\n",
       "      <td>100</td>\n",
       "    </tr>\n",
       "    <tr>\n",
       "      <td>70</td>\n",
       "      <td>2774</td>\n",
       "      <td>线性表</td>\n",
       "      <td>100</td>\n",
       "    </tr>\n",
       "    <tr>\n",
       "      <td>71</td>\n",
       "      <td>2476</td>\n",
       "      <td>线性表</td>\n",
       "      <td>100</td>\n",
       "    </tr>\n",
       "    <tr>\n",
       "      <td>72</td>\n",
       "      <td>2674</td>\n",
       "      <td>线性表</td>\n",
       "      <td>100</td>\n",
       "    </tr>\n",
       "    <tr>\n",
       "      <td>199</td>\n",
       "      <td>2538</td>\n",
       "      <td>排序算法</td>\n",
       "      <td>100</td>\n",
       "    </tr>\n",
       "  </tbody>\n",
       "</table>\n",
       "<p>200 rows × 3 columns</p>\n",
       "</div>"
      ],
      "text/plain": [
       "    case_id case_type  final_score\n",
       "0      2891        数组          100\n",
       "137    2626      数字操作          100\n",
       "127    2621      数字操作          100\n",
       "128    2588      数字操作          100\n",
       "129    2620      数字操作          100\n",
       "..      ...       ...          ...\n",
       "69     2775       线性表          100\n",
       "70     2774       线性表          100\n",
       "71     2476       线性表          100\n",
       "72     2674       线性表          100\n",
       "199    2538      排序算法          100\n",
       "\n",
       "[200 rows x 3 columns]"
      ]
     },
     "execution_count": 92,
     "metadata": {},
     "output_type": "execute_result"
    }
   ],
   "source": [
    "cases.sort_values(by='final_score', ascending=False).drop_duplicates(['case_id'])"
   ]
  },
  {
   "cell_type": "code",
   "execution_count": 74,
   "metadata": {
    "scrolled": true
   },
   "outputs": [
    {
     "data": {
      "text/html": [
       "<div>\n",
       "<style scoped>\n",
       "    .dataframe tbody tr th:only-of-type {\n",
       "        vertical-align: middle;\n",
       "    }\n",
       "\n",
       "    .dataframe tbody tr th {\n",
       "        vertical-align: top;\n",
       "    }\n",
       "\n",
       "    .dataframe thead th {\n",
       "        text-align: right;\n",
       "    }\n",
       "</style>\n",
       "<table border=\"1\" class=\"dataframe\">\n",
       "  <thead>\n",
       "    <tr style=\"text-align: right;\">\n",
       "      <th></th>\n",
       "      <th>case_id</th>\n",
       "      <th>case_type</th>\n",
       "      <th>final_score</th>\n",
       "    </tr>\n",
       "  </thead>\n",
       "  <tbody>\n",
       "    <tr>\n",
       "      <td>0</td>\n",
       "      <td>2908</td>\n",
       "      <td>字符串</td>\n",
       "      <td>40</td>\n",
       "    </tr>\n",
       "    <tr>\n",
       "      <td>1</td>\n",
       "      <td>2172</td>\n",
       "      <td>线性表</td>\n",
       "      <td>100</td>\n",
       "    </tr>\n",
       "    <tr>\n",
       "      <td>2</td>\n",
       "      <td>2179</td>\n",
       "      <td>数组</td>\n",
       "      <td>100</td>\n",
       "    </tr>\n",
       "    <tr>\n",
       "      <td>3</td>\n",
       "      <td>2176</td>\n",
       "      <td>数组</td>\n",
       "      <td>50</td>\n",
       "    </tr>\n",
       "    <tr>\n",
       "      <td>4</td>\n",
       "      <td>2307</td>\n",
       "      <td>数组</td>\n",
       "      <td>25</td>\n",
       "    </tr>\n",
       "    <tr>\n",
       "      <td>5</td>\n",
       "      <td>2804</td>\n",
       "      <td>数组</td>\n",
       "      <td>0</td>\n",
       "    </tr>\n",
       "    <tr>\n",
       "      <td>6</td>\n",
       "      <td>2908</td>\n",
       "      <td>字符串</td>\n",
       "      <td>0</td>\n",
       "    </tr>\n",
       "    <tr>\n",
       "      <td>7</td>\n",
       "      <td>2456</td>\n",
       "      <td>数组</td>\n",
       "      <td>100</td>\n",
       "    </tr>\n",
       "    <tr>\n",
       "      <td>8</td>\n",
       "      <td>2450</td>\n",
       "      <td>查找算法</td>\n",
       "      <td>20</td>\n",
       "    </tr>\n",
       "  </tbody>\n",
       "</table>\n",
       "</div>"
      ],
      "text/plain": [
       "  case_id case_type  final_score\n",
       "0    2908       字符串           40\n",
       "1    2172       线性表          100\n",
       "2    2179        数组          100\n",
       "3    2176        数组           50\n",
       "4    2307        数组           25\n",
       "5    2804        数组            0\n",
       "6    2908       字符串            0\n",
       "7    2456        数组          100\n",
       "8    2450      查找算法           20"
      ]
     },
     "execution_count": 74,
     "metadata": {},
     "output_type": "execute_result"
    }
   ],
   "source": [
    "cases"
   ]
  },
  {
   "cell_type": "code",
   "execution_count": null,
   "metadata": {},
   "outputs": [],
   "source": []
  }
 ],
 "metadata": {
  "kernelspec": {
   "display_name": "Python 3",
   "language": "python",
   "name": "python3"
  },
  "language_info": {
   "codemirror_mode": {
    "name": "ipython",
    "version": 3
   },
   "file_extension": ".py",
   "mimetype": "text/x-python",
   "name": "python",
   "nbconvert_exporter": "python",
   "pygments_lexer": "ipython3",
   "version": "3.7.4"
  }
 },
 "nbformat": 4,
 "nbformat_minor": 2
}
