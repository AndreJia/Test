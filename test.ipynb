{
 "cells": [
  {
   "cell_type": "code",
   "execution_count": 1,
   "metadata": {},
   "outputs": [],
   "source": [
    "import json\n",
    "import numpy as np\n",
    "import pandas as pd\n",
    "import matplotlib.pyplot as plt\n",
    "import matplotlib as mpl\n",
    "import seaborn as sns\n",
    "import urllib.request,urllib.parse\n",
    "import os\n",
    "import time\n",
    "import datetime\n",
    "%matplotlib notebook"
   ]
  },
  {
   "cell_type": "code",
   "execution_count": 2,
   "metadata": {},
   "outputs": [],
   "source": [
    "d = json.load(open('./test_data.json', encoding = 'utf-8'))"
   ]
  },
  {
   "cell_type": "code",
   "execution_count": 3,
   "metadata": {},
   "outputs": [],
   "source": [
    "userId = '49823'"
   ]
  },
  {
   "cell_type": "code",
   "execution_count": 4,
   "metadata": {},
   "outputs": [
    {
     "data": {
      "text/plain": [
       "271"
      ]
     },
     "execution_count": 4,
     "metadata": {},
     "output_type": "execute_result"
    }
   ],
   "source": [
    "len(d)"
   ]
  },
  {
   "cell_type": "code",
   "execution_count": 5,
   "metadata": {},
   "outputs": [
    {
     "data": {
      "text/plain": [
       "dict_keys(['3544', '48117', '49405', '51584', '60581', '60587', '60604', '60606', '60616', '60619', '60631', '60634', '60635', '60639', '60654', '60665', '60671', '60676', '60686', '60707', '60708', '60715', '60737', '60752', '60760', '60762', '60763', '60769', '60772', '60773', '60775', '60782', '60785', '60788', '60799', '60812', '60829', '60832', '60833', '60870', '60885', '60895', '60896', '60899', '61019', '61053', '61094', '61406', '60615', '47329', '60598', '58834', '59018', '60586', '60589', '60602', '60603', '60613', '60620', '60621', '60627', '60632', '60636', '60642', '60651', '60652', '60658', '60659', '60677', '60683', '60688', '60690', '60694', '60695', '60703', '60706', '60714', '60716', '60720', '60722', '60724', '60725', '60730', '60733', '60738', '60742', '60753', '60756', '60759', '60764', '60768', '60771', '60787', '60790', '60827', '60828', '60900', '60901', '61097', '61106', '61132', '61135', '61519', '40552', '61035', '61074', '60583', '39201', '48102', '58758', '59308', '60585', '60590', '60595', '60599', '60617', '60624', '60630', '60638', '60641', '60647', '60653', '60657', '60661', '60666', '60668', '60669', '60675', '60692', '60696', '60698', '60710', '60749', '60750', '60751', '60755', '60757', '60766', '60767', '60776', '60777', '60792', '60795', '60835', '60837', '60846', '60876', '60889', '60898', '61041', '61659', '60645', '60679', '60700', '34511', '60711', '60866', '61212', '2843', '60578', '49823', '60580', '60591', '60592', '60601', '60605', '60610', '60614', '60618', '60622', '60623', '60625', '60644', '60648', '60649', '60667', '60670', '60673', '60678', '60691', '60697', '60699', '60712', '60721', '60723', '60731', '60747', '60765', '60778', '60781', '60791', '60793', '60794', '60796', '60797', '60810', '60836', '60839', '60891', '61046', '61048', '61715', '60628', '60713', '8160', '8246', '8317', '8318', '16304', '39021', '39160', '39190', '39200', '40186', '47774', '47920', '47937', '47961', '48025', '48083', '48721', '49361', '49687', '50263', '52592', '58547', '58575', '58585', '58586', '58610', '58616', '58634', '58778', '58822', '58865', '59137', '59140', '60593', '60594', '60608', '60611', '60637', '60640', '60643', '60660', '60662', '60672', '60693', '60705', '60717', '60719', '60727', '60734', '60739', '60746', '60758', '60761', '60770', '60774', '60825', '61020', '47996', '60689', '61143', '48090', '58744', '60584', '60728', '49315', '47879', '60822'])"
      ]
     },
     "execution_count": 5,
     "metadata": {},
     "output_type": "execute_result"
    }
   ],
   "source": [
    "d.keys()"
   ]
  },
  {
   "cell_type": "code",
   "execution_count": 6,
   "metadata": {
    "scrolled": false
   },
   "outputs": [],
   "source": [
    "def ymd(x):\n",
    "    time_local = time.localtime(int(x)//1000)\n",
    "    dt = time.strftime(\"%Y-%m-%d\",time_local)\n",
    "    return dt"
   ]
  },
  {
   "cell_type": "code",
   "execution_count": 7,
   "metadata": {},
   "outputs": [],
   "source": [
    "def h(x):\n",
    "    time_local = time.localtime(int(x)//1000)\n",
    "    dt = time.strftime(\"%H:00\",time_local)\n",
    "    return dt"
   ]
  },
  {
   "cell_type": "code",
   "execution_count": 8,
   "metadata": {},
   "outputs": [],
   "source": [
    "def f(x):\n",
    "    time_local = time.localtime(int(x)//1000)\n",
    "    dt = time.strftime(\"%Y-%m-%d %H:%M:%S\",time_local)\n",
    "    return dt"
   ]
  },
  {
   "cell_type": "code",
   "execution_count": 9,
   "metadata": {},
   "outputs": [],
   "source": [
    "def maxt(x):\n",
    "    return x.max()"
   ]
  },
  {
   "cell_type": "code",
   "execution_count": 10,
   "metadata": {},
   "outputs": [],
   "source": [
    "def mint(x):\n",
    "    return x.min()"
   ]
  },
  {
   "cell_type": "code",
   "execution_count": 11,
   "metadata": {},
   "outputs": [],
   "source": [
    "def dtime(x):\n",
    "    time_begin = time.localtime(x.min()//1000)\n",
    "    time_end = time.localtime(x.max()//1000)\n",
    "    tb = time.strftime(\"%Y%m%d%H%M%S\",time_begin)\n",
    "    te = time.strftime(\"%Y%m%d%H%M%S\",time_end)\n",
    "    t_begin = datetime.datetime(int(tb[0:4]),int(tb[4:6]),int(tb[6:8]),int(tb[8:10]),int(tb[10:12]),int(tb[12:14]))\n",
    "    t_end = datetime.datetime(int(te[0:4]),int(te[4:6]),int(te[6:8]),int(te[8:10]),int(te[10:12]),int(te[12:14]))\n",
    "    duringtime = t_end - t_begin\n",
    "    seconds = duringtime.seconds\n",
    "    return seconds"
   ]
  },
  {
   "cell_type": "code",
   "execution_count": 12,
   "metadata": {},
   "outputs": [
    {
     "data": {
      "text/plain": [
       "dict_keys(['case_id', 'case_type', 'case_zip', 'final_score', 'upload_records'])"
      ]
     },
     "execution_count": 12,
     "metadata": {},
     "output_type": "execute_result"
    }
   ],
   "source": [
    "d[userId]['cases'][0].keys()"
   ]
  },
  {
   "cell_type": "code",
   "execution_count": 13,
   "metadata": {},
   "outputs": [],
   "source": [
    "cases_keys = ['case_id', 'case_type', 'final_score']"
   ]
  },
  {
   "cell_type": "code",
   "execution_count": 14,
   "metadata": {},
   "outputs": [],
   "source": [
    "cases = pd.DataFrame(d[userId]['cases'], columns=cases_keys)"
   ]
  },
  {
   "cell_type": "code",
   "execution_count": 15,
   "metadata": {
    "scrolled": false
   },
   "outputs": [
    {
     "data": {
      "text/plain": [
       "<matplotlib.axes._subplots.AxesSubplot at 0x2cdb9d49908>"
      ]
     },
     "execution_count": 15,
     "metadata": {},
     "output_type": "execute_result"
    },
    {
     "data": {
      "image/png": "[encoded data removed]",
      "text/plain": [
       "<Figure size 432x288 with 1 Axes>"
      ]
     },
     "metadata": {
      "needs_background": "light"
     },
     "output_type": "display_data"
    }
   ],
   "source": [
    "cases.sort_values(by='final_score', ascending=False).drop_duplicates(['case_id'])['final_score'].value_counts().sort_index().plot.barh()"
   ]
  },
  {
   "cell_type": "code",
   "execution_count": 45,
   "metadata": {},
   "outputs": [
    {
     "data": {
      "text/plain": [
       "<matplotlib.axes._subplots.AxesSubplot at 0x2cdba612388>"
      ]
     },
     "execution_count": 45,
     "metadata": {},
     "output_type": "execute_result"
    },
    {
     "data": {
      "image/png": "[encoded data removed]",
      "text/plain": [
       "<Figure size 432x288 with 1 Axes>"
      ]
     },
     "metadata": {},
     "output_type": "display_data"
    }
   ],
   "source": [
    "cases.sort_values(by='final_score', ascending=False).drop_duplicates(['case_id'])['final_score'].value_counts().sort_index().plot.pie()"
   ]
  },
  {
   "cell_type": "code",
   "execution_count": 16,
   "metadata": {
    "scrolled": false
   },
   "outputs": [
    {
     "data": {
      "text/html": [
       "<div>\n",
       "<style scoped>\n",
       "    .dataframe tbody tr th:only-of-type {\n",
       "        vertical-align: middle;\n",
       "    }\n",
       "\n",
       "    .dataframe tbody tr th {\n",
       "        vertical-align: top;\n",
       "    }\n",
       "\n",
       "    .dataframe thead th {\n",
       "        text-align: right;\n",
       "    }\n",
       "</style>\n",
       "<table border=\"1\" class=\"dataframe\">\n",
       "  <thead>\n",
       "    <tr style=\"text-align: right;\">\n",
       "      <th></th>\n",
       "      <th>case_id</th>\n",
       "      <th>case_type</th>\n",
       "      <th>final_score</th>\n",
       "    </tr>\n",
       "  </thead>\n",
       "  <tbody>\n",
       "    <tr>\n",
       "      <td>0</td>\n",
       "      <td>2473</td>\n",
       "      <td>线性表</td>\n",
       "      <td>40.0</td>\n",
       "    </tr>\n",
       "    <tr>\n",
       "      <td>1</td>\n",
       "      <td>2691</td>\n",
       "      <td>线性表</td>\n",
       "      <td>50.0</td>\n",
       "    </tr>\n",
       "    <tr>\n",
       "      <td>2</td>\n",
       "      <td>2471</td>\n",
       "      <td>线性表</td>\n",
       "      <td>80.0</td>\n",
       "    </tr>\n",
       "    <tr>\n",
       "      <td>3</td>\n",
       "      <td>2690</td>\n",
       "      <td>线性表</td>\n",
       "      <td>100.0</td>\n",
       "    </tr>\n",
       "    <tr>\n",
       "      <td>4</td>\n",
       "      <td>2590</td>\n",
       "      <td>线性表</td>\n",
       "      <td>75.0</td>\n",
       "    </tr>\n",
       "    <tr>\n",
       "      <td>...</td>\n",
       "      <td>...</td>\n",
       "      <td>...</td>\n",
       "      <td>...</td>\n",
       "    </tr>\n",
       "    <tr>\n",
       "      <td>195</td>\n",
       "      <td>2705</td>\n",
       "      <td>查找算法</td>\n",
       "      <td>100.0</td>\n",
       "    </tr>\n",
       "    <tr>\n",
       "      <td>196</td>\n",
       "      <td>2737</td>\n",
       "      <td>查找算法</td>\n",
       "      <td>100.0</td>\n",
       "    </tr>\n",
       "    <tr>\n",
       "      <td>197</td>\n",
       "      <td>2726</td>\n",
       "      <td>查找算法</td>\n",
       "      <td>100.0</td>\n",
       "    </tr>\n",
       "    <tr>\n",
       "      <td>198</td>\n",
       "      <td>2715</td>\n",
       "      <td>查找算法</td>\n",
       "      <td>100.0</td>\n",
       "    </tr>\n",
       "    <tr>\n",
       "      <td>199</td>\n",
       "      <td>2703</td>\n",
       "      <td>查找算法</td>\n",
       "      <td>100.0</td>\n",
       "    </tr>\n",
       "  </tbody>\n",
       "</table>\n",
       "<p>200 rows × 3 columns</p>\n",
       "</div>"
      ],
      "text/plain": [
       "    case_id case_type  final_score\n",
       "0      2473       线性表         40.0\n",
       "1      2691       线性表         50.0\n",
       "2      2471       线性表         80.0\n",
       "3      2690       线性表        100.0\n",
       "4      2590       线性表         75.0\n",
       "..      ...       ...          ...\n",
       "195    2705      查找算法        100.0\n",
       "196    2737      查找算法        100.0\n",
       "197    2726      查找算法        100.0\n",
       "198    2715      查找算法        100.0\n",
       "199    2703      查找算法        100.0\n",
       "\n",
       "[200 rows x 3 columns]"
      ]
     },
     "execution_count": 16,
     "metadata": {},
     "output_type": "execute_result"
    }
   ],
   "source": [
    "cases"
   ]
  },
  {
   "cell_type": "code",
   "execution_count": 17,
   "metadata": {},
   "outputs": [],
   "source": [
    "rcds_keys = ['upload_id', 'upload_time', 'score']"
   ]
  },
  {
   "cell_type": "code",
   "execution_count": 18,
   "metadata": {
    "scrolled": true
   },
   "outputs": [
    {
     "name": "stdout",
     "output_type": "stream",
     "text": [
      "200\n"
     ]
    }
   ],
   "source": [
    "records = d[userId]['cases']\n",
    "rcds = pd.DataFrame(columns=['upload_id', 'upload_time', 'score', 'c'])\n",
    "i = 0\n",
    "for record in records:\n",
    "    rcd = pd.DataFrame(record['upload_records'], columns=rcds_keys)\n",
    "    rcd.index = rcd['upload_id']\n",
    "    rcd['c'] = range(len(rcd))\n",
    "    rcds = pd.concat([rcds, rcd])\n",
    "    i = i + 1\n",
    "print(i)"
   ]
  },
  {
   "cell_type": "code",
   "execution_count": 19,
   "metadata": {},
   "outputs": [
    {
     "data": {
      "text/html": [
       "<div>\n",
       "<style scoped>\n",
       "    .dataframe tbody tr th:only-of-type {\n",
       "        vertical-align: middle;\n",
       "    }\n",
       "\n",
       "    .dataframe tbody tr th {\n",
       "        vertical-align: top;\n",
       "    }\n",
       "\n",
       "    .dataframe thead th {\n",
       "        text-align: right;\n",
       "    }\n",
       "</style>\n",
       "<table border=\"1\" class=\"dataframe\">\n",
       "  <thead>\n",
       "    <tr style=\"text-align: right;\">\n",
       "      <th></th>\n",
       "      <th>upload_id</th>\n",
       "      <th>upload_time</th>\n",
       "      <th>score</th>\n",
       "      <th>c</th>\n",
       "    </tr>\n",
       "  </thead>\n",
       "  <tbody>\n",
       "    <tr>\n",
       "      <td>300001</td>\n",
       "      <td>300001</td>\n",
       "      <td>1584969912936</td>\n",
       "      <td>20.0</td>\n",
       "      <td>0</td>\n",
       "    </tr>\n",
       "    <tr>\n",
       "      <td>321717</td>\n",
       "      <td>321717</td>\n",
       "      <td>1585669803822</td>\n",
       "      <td>0.0</td>\n",
       "      <td>1</td>\n",
       "    </tr>\n",
       "    <tr>\n",
       "      <td>321718</td>\n",
       "      <td>321718</td>\n",
       "      <td>1585669807908</td>\n",
       "      <td>0.0</td>\n",
       "      <td>2</td>\n",
       "    </tr>\n",
       "    <tr>\n",
       "      <td>321719</td>\n",
       "      <td>321719</td>\n",
       "      <td>1585669811397</td>\n",
       "      <td>20.0</td>\n",
       "      <td>3</td>\n",
       "    </tr>\n",
       "    <tr>\n",
       "      <td>321720</td>\n",
       "      <td>321720</td>\n",
       "      <td>1585669820197</td>\n",
       "      <td>20.0</td>\n",
       "      <td>4</td>\n",
       "    </tr>\n",
       "    <tr>\n",
       "      <td>...</td>\n",
       "      <td>...</td>\n",
       "      <td>...</td>\n",
       "      <td>...</td>\n",
       "      <td>...</td>\n",
       "    </tr>\n",
       "    <tr>\n",
       "      <td>262756</td>\n",
       "      <td>262756</td>\n",
       "      <td>1582975227237</td>\n",
       "      <td>0.0</td>\n",
       "      <td>4</td>\n",
       "    </tr>\n",
       "    <tr>\n",
       "      <td>262758</td>\n",
       "      <td>262758</td>\n",
       "      <td>1582975260132</td>\n",
       "      <td>0.0</td>\n",
       "      <td>5</td>\n",
       "    </tr>\n",
       "    <tr>\n",
       "      <td>262759</td>\n",
       "      <td>262759</td>\n",
       "      <td>1582975268865</td>\n",
       "      <td>50.0</td>\n",
       "      <td>6</td>\n",
       "    </tr>\n",
       "    <tr>\n",
       "      <td>278415</td>\n",
       "      <td>278415</td>\n",
       "      <td>1583843920017</td>\n",
       "      <td>50.0</td>\n",
       "      <td>7</td>\n",
       "    </tr>\n",
       "    <tr>\n",
       "      <td>278424</td>\n",
       "      <td>278424</td>\n",
       "      <td>1583844165717</td>\n",
       "      <td>100.0</td>\n",
       "      <td>8</td>\n",
       "    </tr>\n",
       "  </tbody>\n",
       "</table>\n",
       "<p>1034 rows × 4 columns</p>\n",
       "</div>"
      ],
      "text/plain": [
       "       upload_id    upload_time  score  c\n",
       "300001    300001  1584969912936   20.0  0\n",
       "321717    321717  1585669803822    0.0  1\n",
       "321718    321718  1585669807908    0.0  2\n",
       "321719    321719  1585669811397   20.0  3\n",
       "321720    321720  1585669820197   20.0  4\n",
       "...          ...            ...    ... ..\n",
       "262756    262756  1582975227237    0.0  4\n",
       "262758    262758  1582975260132    0.0  5\n",
       "262759    262759  1582975268865   50.0  6\n",
       "278415    278415  1583843920017   50.0  7\n",
       "278424    278424  1583844165717  100.0  8\n",
       "\n",
       "[1034 rows x 4 columns]"
      ]
     },
     "execution_count": 19,
     "metadata": {},
     "output_type": "execute_result"
    }
   ],
   "source": [
    "rcds"
   ]
  },
  {
   "cell_type": "code",
   "execution_count": 44,
   "metadata": {},
   "outputs": [
    {
     "data": {
      "text/plain": [
       "<seaborn.axisgrid.JointGrid at 0x2cdba48d608>"
      ]
     },
     "execution_count": 44,
     "metadata": {},
     "output_type": "execute_result"
    },
    {
     "data": {
      "image/png": "[encoded data removed]",
      "text/plain": [
       "<Figure size 432x432 with 3 Axes>"
      ]
     },
     "metadata": {
      "needs_background": "light"
     },
     "output_type": "display_data"
    }
   ],
   "source": [
    "sns.jointplot('c', 'score', data=rcds, kind=\"hex\")"
   ]
  },
  {
   "cell_type": "code",
   "execution_count": 20,
   "metadata": {},
   "outputs": [],
   "source": [
    "rcds['time_ymd'] = rcds['upload_time'].map(ymd)"
   ]
  },
  {
   "cell_type": "code",
   "execution_count": 21,
   "metadata": {},
   "outputs": [],
   "source": [
    "rcds['time_h'] = rcds['upload_time'].map(h)"
   ]
  },
  {
   "cell_type": "code",
   "execution_count": 22,
   "metadata": {},
   "outputs": [
    {
     "data": {
      "text/html": [
       "<div>\n",
       "<style scoped>\n",
       "    .dataframe tbody tr th:only-of-type {\n",
       "        vertical-align: middle;\n",
       "    }\n",
       "\n",
       "    .dataframe tbody tr th {\n",
       "        vertical-align: top;\n",
       "    }\n",
       "\n",
       "    .dataframe thead th {\n",
       "        text-align: right;\n",
       "    }\n",
       "</style>\n",
       "<table border=\"1\" class=\"dataframe\">\n",
       "  <thead>\n",
       "    <tr style=\"text-align: right;\">\n",
       "      <th></th>\n",
       "      <th>upload_id</th>\n",
       "      <th>upload_time</th>\n",
       "      <th>score</th>\n",
       "      <th>c</th>\n",
       "      <th>time_ymd</th>\n",
       "      <th>time_h</th>\n",
       "    </tr>\n",
       "  </thead>\n",
       "  <tbody>\n",
       "    <tr>\n",
       "      <td>300001</td>\n",
       "      <td>300001</td>\n",
       "      <td>1584969912936</td>\n",
       "      <td>20.0</td>\n",
       "      <td>0</td>\n",
       "      <td>2020-03-23</td>\n",
       "      <td>21:00</td>\n",
       "    </tr>\n",
       "    <tr>\n",
       "      <td>321717</td>\n",
       "      <td>321717</td>\n",
       "      <td>1585669803822</td>\n",
       "      <td>0.0</td>\n",
       "      <td>1</td>\n",
       "      <td>2020-03-31</td>\n",
       "      <td>23:00</td>\n",
       "    </tr>\n",
       "    <tr>\n",
       "      <td>321718</td>\n",
       "      <td>321718</td>\n",
       "      <td>1585669807908</td>\n",
       "      <td>0.0</td>\n",
       "      <td>2</td>\n",
       "      <td>2020-03-31</td>\n",
       "      <td>23:00</td>\n",
       "    </tr>\n",
       "    <tr>\n",
       "      <td>321719</td>\n",
       "      <td>321719</td>\n",
       "      <td>1585669811397</td>\n",
       "      <td>20.0</td>\n",
       "      <td>3</td>\n",
       "      <td>2020-03-31</td>\n",
       "      <td>23:00</td>\n",
       "    </tr>\n",
       "    <tr>\n",
       "      <td>321720</td>\n",
       "      <td>321720</td>\n",
       "      <td>1585669820197</td>\n",
       "      <td>20.0</td>\n",
       "      <td>4</td>\n",
       "      <td>2020-03-31</td>\n",
       "      <td>23:00</td>\n",
       "    </tr>\n",
       "    <tr>\n",
       "      <td>...</td>\n",
       "      <td>...</td>\n",
       "      <td>...</td>\n",
       "      <td>...</td>\n",
       "      <td>...</td>\n",
       "      <td>...</td>\n",
       "      <td>...</td>\n",
       "    </tr>\n",
       "    <tr>\n",
       "      <td>262756</td>\n",
       "      <td>262756</td>\n",
       "      <td>1582975227237</td>\n",
       "      <td>0.0</td>\n",
       "      <td>4</td>\n",
       "      <td>2020-02-29</td>\n",
       "      <td>19:00</td>\n",
       "    </tr>\n",
       "    <tr>\n",
       "      <td>262758</td>\n",
       "      <td>262758</td>\n",
       "      <td>1582975260132</td>\n",
       "      <td>0.0</td>\n",
       "      <td>5</td>\n",
       "      <td>2020-02-29</td>\n",
       "      <td>19:00</td>\n",
       "    </tr>\n",
       "    <tr>\n",
       "      <td>262759</td>\n",
       "      <td>262759</td>\n",
       "      <td>1582975268865</td>\n",
       "      <td>50.0</td>\n",
       "      <td>6</td>\n",
       "      <td>2020-02-29</td>\n",
       "      <td>19:00</td>\n",
       "    </tr>\n",
       "    <tr>\n",
       "      <td>278415</td>\n",
       "      <td>278415</td>\n",
       "      <td>1583843920017</td>\n",
       "      <td>50.0</td>\n",
       "      <td>7</td>\n",
       "      <td>2020-03-10</td>\n",
       "      <td>20:00</td>\n",
       "    </tr>\n",
       "    <tr>\n",
       "      <td>278424</td>\n",
       "      <td>278424</td>\n",
       "      <td>1583844165717</td>\n",
       "      <td>100.0</td>\n",
       "      <td>8</td>\n",
       "      <td>2020-03-10</td>\n",
       "      <td>20:00</td>\n",
       "    </tr>\n",
       "  </tbody>\n",
       "</table>\n",
       "<p>1034 rows × 6 columns</p>\n",
       "</div>"
      ],
      "text/plain": [
       "       upload_id    upload_time  score  c    time_ymd time_h\n",
       "300001    300001  1584969912936   20.0  0  2020-03-23  21:00\n",
       "321717    321717  1585669803822    0.0  1  2020-03-31  23:00\n",
       "321718    321718  1585669807908    0.0  2  2020-03-31  23:00\n",
       "321719    321719  1585669811397   20.0  3  2020-03-31  23:00\n",
       "321720    321720  1585669820197   20.0  4  2020-03-31  23:00\n",
       "...          ...            ...    ... ..         ...    ...\n",
       "262756    262756  1582975227237    0.0  4  2020-02-29  19:00\n",
       "262758    262758  1582975260132    0.0  5  2020-02-29  19:00\n",
       "262759    262759  1582975268865   50.0  6  2020-02-29  19:00\n",
       "278415    278415  1583843920017   50.0  7  2020-03-10  20:00\n",
       "278424    278424  1583844165717  100.0  8  2020-03-10  20:00\n",
       "\n",
       "[1034 rows x 6 columns]"
      ]
     },
     "execution_count": 22,
     "metadata": {},
     "output_type": "execute_result"
    }
   ],
   "source": [
    "rcds"
   ]
  },
  {
   "cell_type": "code",
   "execution_count": 23,
   "metadata": {},
   "outputs": [
    {
     "data": {
      "text/plain": [
       "<matplotlib.axes._subplots.AxesSubplot at 0x2cdba171a48>"
      ]
     },
     "execution_count": 23,
     "metadata": {},
     "output_type": "execute_result"
    },
    {
     "data": {
      "image/png": "[encoded data removed]",
      "text/plain": [
       "<Figure size 432x288 with 1 Axes>"
      ]
     },
     "metadata": {
      "needs_background": "light"
     },
     "output_type": "display_data"
    }
   ],
   "source": [
    "rcds['time_ymd'].value_counts().sort_index(ascending=False).plot.barh()"
   ]
  },
  {
   "cell_type": "code",
   "execution_count": 24,
   "metadata": {},
   "outputs": [
    {
     "data": {
      "text/plain": [
       "<matplotlib.axes._subplots.AxesSubplot at 0x2cdba23b348>"
      ]
     },
     "execution_count": 24,
     "metadata": {},
     "output_type": "execute_result"
    },
    {
     "data": {
      "image/png": "[encoded data removed]",
      "text/plain": [
       "<Figure size 432x288 with 1 Axes>"
      ]
     },
     "metadata": {
      "needs_background": "light"
     },
     "output_type": "display_data"
    }
   ],
   "source": [
    "rcds['time_h'].value_counts().sort_index(ascending=False).plot.barh()"
   ]
  },
  {
   "cell_type": "code",
   "execution_count": 25,
   "metadata": {
    "scrolled": false
   },
   "outputs": [
    {
     "name": "stdout",
     "output_type": "stream",
     "text": [
      "200\n"
     ]
    }
   ],
   "source": [
    "trecords = d[userId]['cases']\n",
    "trcds = pd.DataFrame()\n",
    "i = 0\n",
    "for trecord in trecords:\n",
    "    trcd = pd.DataFrame(trecord['upload_records'], columns=['upload_time'])\n",
    "    case_id = trecord['case_id']\n",
    "    #trcd.rename(columns={'upload_records': record['case_id']})\n",
    "    #print(trcd['upload_time'])\n",
    "    trcds[case_id] = [trcd['upload_time'].min(), trcd['upload_time'].max()]\n",
    "    i = i + 1\n",
    "print(i)"
   ]
  },
  {
   "cell_type": "code",
   "execution_count": 26,
   "metadata": {},
   "outputs": [
    {
     "data": {
      "text/html": [
       "<div>\n",
       "<style scoped>\n",
       "    .dataframe tbody tr th:only-of-type {\n",
       "        vertical-align: middle;\n",
       "    }\n",
       "\n",
       "    .dataframe tbody tr th {\n",
       "        vertical-align: top;\n",
       "    }\n",
       "\n",
       "    .dataframe thead th {\n",
       "        text-align: right;\n",
       "    }\n",
       "</style>\n",
       "<table border=\"1\" class=\"dataframe\">\n",
       "  <thead>\n",
       "    <tr style=\"text-align: right;\">\n",
       "      <th></th>\n",
       "      <th>2473</th>\n",
       "      <th>2691</th>\n",
       "      <th>2471</th>\n",
       "      <th>2690</th>\n",
       "      <th>2590</th>\n",
       "      <th>2724</th>\n",
       "      <th>2723</th>\n",
       "      <th>2646</th>\n",
       "      <th>2722</th>\n",
       "      <th>2721</th>\n",
       "      <th>...</th>\n",
       "      <th>2706</th>\n",
       "      <th>2717</th>\n",
       "      <th>2606</th>\n",
       "      <th>2639</th>\n",
       "      <th>2716</th>\n",
       "      <th>2705</th>\n",
       "      <th>2737</th>\n",
       "      <th>2726</th>\n",
       "      <th>2715</th>\n",
       "      <th>2703</th>\n",
       "    </tr>\n",
       "  </thead>\n",
       "  <tbody>\n",
       "    <tr>\n",
       "      <td>0</td>\n",
       "      <td>1584969912936</td>\n",
       "      <td>1583205928910</td>\n",
       "      <td>1584581534680</td>\n",
       "      <td>1584970250090</td>\n",
       "      <td>1584801907922</td>\n",
       "      <td>1584582112772</td>\n",
       "      <td>1584582492201</td>\n",
       "      <td>1584801943436</td>\n",
       "      <td>1584970892692</td>\n",
       "      <td>1584970599243</td>\n",
       "      <td>...</td>\n",
       "      <td>1584492604467</td>\n",
       "      <td>1584493146347</td>\n",
       "      <td>1582967307020</td>\n",
       "      <td>1583845407470</td>\n",
       "      <td>1584255819918</td>\n",
       "      <td>1584492362028</td>\n",
       "      <td>1582242770302</td>\n",
       "      <td>1582967653068</td>\n",
       "      <td>1583844926582</td>\n",
       "      <td>1582257159347</td>\n",
       "    </tr>\n",
       "    <tr>\n",
       "      <td>1</td>\n",
       "      <td>1585669823502</td>\n",
       "      <td>1585669867428</td>\n",
       "      <td>1584581534680</td>\n",
       "      <td>1584970498433</td>\n",
       "      <td>1585668913598</td>\n",
       "      <td>1584582112772</td>\n",
       "      <td>1584582492201</td>\n",
       "      <td>1585668963868</td>\n",
       "      <td>1585669501031</td>\n",
       "      <td>1584970741856</td>\n",
       "      <td>...</td>\n",
       "      <td>1584801735121</td>\n",
       "      <td>1584493206537</td>\n",
       "      <td>1582967351009</td>\n",
       "      <td>1584492197217</td>\n",
       "      <td>1585667914892</td>\n",
       "      <td>1584492362028</td>\n",
       "      <td>1582242770302</td>\n",
       "      <td>1582975194802</td>\n",
       "      <td>1583844926582</td>\n",
       "      <td>1583844165717</td>\n",
       "    </tr>\n",
       "  </tbody>\n",
       "</table>\n",
       "<p>2 rows × 200 columns</p>\n",
       "</div>"
      ],
      "text/plain": [
       "            2473           2691           2471           2690           2590  \\\n",
       "0  1584969912936  1583205928910  1584581534680  1584970250090  1584801907922   \n",
       "1  1585669823502  1585669867428  1584581534680  1584970498433  1585668913598   \n",
       "\n",
       "            2724           2723           2646           2722           2721  \\\n",
       "0  1584582112772  1584582492201  1584801943436  1584970892692  1584970599243   \n",
       "1  1584582112772  1584582492201  1585668963868  1585669501031  1584970741856   \n",
       "\n",
       "   ...           2706           2717           2606           2639  \\\n",
       "0  ...  1584492604467  1584493146347  1582967307020  1583845407470   \n",
       "1  ...  1584801735121  1584493206537  1582967351009  1584492197217   \n",
       "\n",
       "            2716           2705           2737           2726           2715  \\\n",
       "0  1584255819918  1584492362028  1582242770302  1582967653068  1583844926582   \n",
       "1  1585667914892  1584492362028  1582242770302  1582975194802  1583844926582   \n",
       "\n",
       "            2703  \n",
       "0  1582257159347  \n",
       "1  1583844165717  \n",
       "\n",
       "[2 rows x 200 columns]"
      ]
     },
     "execution_count": 26,
     "metadata": {},
     "output_type": "execute_result"
    }
   ],
   "source": [
    "trcds"
   ]
  },
  {
   "cell_type": "code",
   "execution_count": 27,
   "metadata": {},
   "outputs": [],
   "source": [
    "#trcds = trcds.applymap(f)"
   ]
  },
  {
   "cell_type": "code",
   "execution_count": 28,
   "metadata": {},
   "outputs": [
    {
     "data": {
      "text/html": [
       "<div>\n",
       "<style scoped>\n",
       "    .dataframe tbody tr th:only-of-type {\n",
       "        vertical-align: middle;\n",
       "    }\n",
       "\n",
       "    .dataframe tbody tr th {\n",
       "        vertical-align: top;\n",
       "    }\n",
       "\n",
       "    .dataframe thead th {\n",
       "        text-align: right;\n",
       "    }\n",
       "</style>\n",
       "<table border=\"1\" class=\"dataframe\">\n",
       "  <thead>\n",
       "    <tr style=\"text-align: right;\">\n",
       "      <th></th>\n",
       "      <th>2473</th>\n",
       "      <th>2691</th>\n",
       "      <th>2471</th>\n",
       "      <th>2690</th>\n",
       "      <th>2590</th>\n",
       "      <th>2724</th>\n",
       "      <th>2723</th>\n",
       "      <th>2646</th>\n",
       "      <th>2722</th>\n",
       "      <th>2721</th>\n",
       "      <th>...</th>\n",
       "      <th>2706</th>\n",
       "      <th>2717</th>\n",
       "      <th>2606</th>\n",
       "      <th>2639</th>\n",
       "      <th>2716</th>\n",
       "      <th>2705</th>\n",
       "      <th>2737</th>\n",
       "      <th>2726</th>\n",
       "      <th>2715</th>\n",
       "      <th>2703</th>\n",
       "    </tr>\n",
       "  </thead>\n",
       "  <tbody>\n",
       "    <tr>\n",
       "      <td>0</td>\n",
       "      <td>1584969912936</td>\n",
       "      <td>1583205928910</td>\n",
       "      <td>1584581534680</td>\n",
       "      <td>1584970250090</td>\n",
       "      <td>1584801907922</td>\n",
       "      <td>1584582112772</td>\n",
       "      <td>1584582492201</td>\n",
       "      <td>1584801943436</td>\n",
       "      <td>1584970892692</td>\n",
       "      <td>1584970599243</td>\n",
       "      <td>...</td>\n",
       "      <td>1584492604467</td>\n",
       "      <td>1584493146347</td>\n",
       "      <td>1582967307020</td>\n",
       "      <td>1583845407470</td>\n",
       "      <td>1584255819918</td>\n",
       "      <td>1584492362028</td>\n",
       "      <td>1582242770302</td>\n",
       "      <td>1582967653068</td>\n",
       "      <td>1583844926582</td>\n",
       "      <td>1582257159347</td>\n",
       "    </tr>\n",
       "    <tr>\n",
       "      <td>1</td>\n",
       "      <td>1585669823502</td>\n",
       "      <td>1585669867428</td>\n",
       "      <td>1584581534680</td>\n",
       "      <td>1584970498433</td>\n",
       "      <td>1585668913598</td>\n",
       "      <td>1584582112772</td>\n",
       "      <td>1584582492201</td>\n",
       "      <td>1585668963868</td>\n",
       "      <td>1585669501031</td>\n",
       "      <td>1584970741856</td>\n",
       "      <td>...</td>\n",
       "      <td>1584801735121</td>\n",
       "      <td>1584493206537</td>\n",
       "      <td>1582967351009</td>\n",
       "      <td>1584492197217</td>\n",
       "      <td>1585667914892</td>\n",
       "      <td>1584492362028</td>\n",
       "      <td>1582242770302</td>\n",
       "      <td>1582975194802</td>\n",
       "      <td>1583844926582</td>\n",
       "      <td>1583844165717</td>\n",
       "    </tr>\n",
       "  </tbody>\n",
       "</table>\n",
       "<p>2 rows × 200 columns</p>\n",
       "</div>"
      ],
      "text/plain": [
       "            2473           2691           2471           2690           2590  \\\n",
       "0  1584969912936  1583205928910  1584581534680  1584970250090  1584801907922   \n",
       "1  1585669823502  1585669867428  1584581534680  1584970498433  1585668913598   \n",
       "\n",
       "            2724           2723           2646           2722           2721  \\\n",
       "0  1584582112772  1584582492201  1584801943436  1584970892692  1584970599243   \n",
       "1  1584582112772  1584582492201  1585668963868  1585669501031  1584970741856   \n",
       "\n",
       "   ...           2706           2717           2606           2639  \\\n",
       "0  ...  1584492604467  1584493146347  1582967307020  1583845407470   \n",
       "1  ...  1584801735121  1584493206537  1582967351009  1584492197217   \n",
       "\n",
       "            2716           2705           2737           2726           2715  \\\n",
       "0  1584255819918  1584492362028  1582242770302  1582967653068  1583844926582   \n",
       "1  1585667914892  1584492362028  1582242770302  1582975194802  1583844926582   \n",
       "\n",
       "            2703  \n",
       "0  1582257159347  \n",
       "1  1583844165717  \n",
       "\n",
       "[2 rows x 200 columns]"
      ]
     },
     "execution_count": 28,
     "metadata": {},
     "output_type": "execute_result"
    }
   ],
   "source": [
    "trcds"
   ]
  },
  {
   "cell_type": "code",
   "execution_count": 29,
   "metadata": {},
   "outputs": [],
   "source": [
    "during_seconds = trcds.apply(dtime)"
   ]
  },
  {
   "cell_type": "code",
   "execution_count": 30,
   "metadata": {},
   "outputs": [
    {
     "data": {
      "text/plain": [
       "2473     8711\n",
       "2691    44739\n",
       "2471        0\n",
       "2690      248\n",
       "2590     3006\n",
       "        ...  \n",
       "2705        0\n",
       "2737        0\n",
       "2726     7541\n",
       "2715        0\n",
       "2703    31806\n",
       "Length: 200, dtype: int64"
      ]
     },
     "execution_count": 30,
     "metadata": {},
     "output_type": "execute_result"
    }
   ],
   "source": [
    "during_seconds"
   ]
  },
  {
   "cell_type": "code",
   "execution_count": 31,
   "metadata": {},
   "outputs": [],
   "source": [
    "during_s = np.array(during_seconds)"
   ]
  },
  {
   "cell_type": "code",
   "execution_count": 32,
   "metadata": {},
   "outputs": [
    {
     "data": {
      "text/plain": [
       "array([ 8711, 44739,     0,   248,  3006,     0,     0,  3020,  7409,\n",
       "         142,  7874,  3158,  7854,  7862,  7567,  7664,    51,   113,\n",
       "        7833,  7754,  3022,  7685,     0, 58065,  8536,   250,  8572,\n",
       "          58,  3100,  8596,  1486, 50839,    15,  1236,  1043, 31647,\n",
       "          29,   832,  1258,    70,    39,     0,    22,    57,   845,\n",
       "         743,    80,   768, 61576, 61090, 42843, 61417, 61395,    18,\n",
       "        6338,     0,     0, 61420, 61471,    49,     0, 33888,    83,\n",
       "          96,     5,     0,    55,    29,    25,     0,   113,    20,\n",
       "          40,     4,    18,     0,     0,     0,   457,     0,     0,\n",
       "          44,     0,    12,    15,     0,    12,     0,    10,     9,\n",
       "           0,    18,    10,     0,    13,    23,   578,    10,  2024,\n",
       "         132,    36,     0,     0,     0,    19,  1592,  1629, 69023,\n",
       "         599,     0,     0,   922,     0,  1298,     0,   237, 62885,\n",
       "       61836, 61270,  5845, 63119, 61285, 62811, 63094, 62780, 61812,\n",
       "       49423, 61873, 62758, 62785, 61767, 61833, 62833, 62014, 63100,\n",
       "       63132, 61796, 63090, 63114, 62087, 62160, 61475, 61890, 49371,\n",
       "       62843, 11882,     0,     0,    85,   164,     0,   370,     0,\n",
       "           0,     0,     0,   183,    17, 30342,     0,    29,   112,\n",
       "       30468, 57385,   412,     0,     0,     0,    14,  1359,     0,\n",
       "           0,     0,     0,  5737, 62822, 58951,     0,     0,  6839,\n",
       "           0,     0,     0,     0,     0,    82,    53, 36989,   138,\n",
       "          24, 49931,    60,    44, 41990, 29695,     0,     0,  7541,\n",
       "           0, 31806], dtype=int64)"
      ]
     },
     "execution_count": 32,
     "metadata": {},
     "output_type": "execute_result"
    }
   ],
   "source": [
    "during_s"
   ]
  },
  {
   "cell_type": "code",
   "execution_count": 33,
   "metadata": {},
   "outputs": [
    {
     "data": {
      "text/plain": [
       "15181.09"
      ]
     },
     "execution_count": 33,
     "metadata": {},
     "output_type": "execute_result"
    }
   ],
   "source": [
    "during_s.mean()"
   ]
  },
  {
   "cell_type": "code",
   "execution_count": 34,
   "metadata": {},
   "outputs": [
    {
     "data": {
      "text/plain": [
       "24553.69077047074"
      ]
     },
     "execution_count": 34,
     "metadata": {},
     "output_type": "execute_result"
    }
   ],
   "source": [
    "during_s.std()"
   ]
  },
  {
   "cell_type": "code",
   "execution_count": 35,
   "metadata": {},
   "outputs": [
    {
     "data": {
      "text/plain": [
       "602883730.4519001"
      ]
     },
     "execution_count": 35,
     "metadata": {},
     "output_type": "execute_result"
    }
   ],
   "source": [
    "during_s.var()"
   ]
  },
  {
   "cell_type": "code",
   "execution_count": 36,
   "metadata": {},
   "outputs": [],
   "source": [
    "bins = [0, 600, 1800, 3600, 10800, 21600, 43200, 86400, 259200, 3801600]"
   ]
  },
  {
   "cell_type": "code",
   "execution_count": 39,
   "metadata": {},
   "outputs": [],
   "source": [
    "group_names = ['10m', '30m', '1h', '3h', '6h', '12h', '1d', '3d','>3d']"
   ]
  },
  {
   "cell_type": "code",
   "execution_count": 40,
   "metadata": {},
   "outputs": [],
   "source": [
    "cats = pd.cut(during_s, bins, right=False, labels=group_names)"
   ]
  },
  {
   "cell_type": "code",
   "execution_count": 41,
   "metadata": {},
   "outputs": [
    {
     "data": {
      "text/plain": [
       "[3h, 1d, 10m, 10m, 1h, ..., 10m, 10m, 3h, 10m, 12h]\n",
       "Length: 200\n",
       "Categories (9, object): [10m < 30m < 1h < 3h ... 12h < 1d < 3d < >3d]"
      ]
     },
     "execution_count": 41,
     "metadata": {},
     "output_type": "execute_result"
    }
   ],
   "source": [
    "cats"
   ]
  },
  {
   "cell_type": "code",
   "execution_count": 42,
   "metadata": {},
   "outputs": [
    {
     "data": {
      "text/plain": [
       "<matplotlib.axes._subplots.AxesSubplot at 0x2cdba220ec8>"
      ]
     },
     "execution_count": 42,
     "metadata": {},
     "output_type": "execute_result"
    },
    {
     "data": {
      "image/png": "[encoded data removed]",
      "text/plain": [
       "<Figure size 432x288 with 1 Axes>"
      ]
     },
     "metadata": {
      "needs_background": "light"
     },
     "output_type": "display_data"
    }
   ],
   "source": [
    "cats.value_counts().sort_index(ascending=False).plot.bar()"
   ]
  },
  {
   "cell_type": "code",
   "execution_count": 43,
   "metadata": {},
   "outputs": [
    {
     "data": {
      "text/plain": [
       "<matplotlib.axes._subplots.AxesSubplot at 0x2cdba436988>"
      ]
     },
     "execution_count": 43,
     "metadata": {},
     "output_type": "execute_result"
    },
    {
     "data": {
      "image/png": "[encoded data removed]",
      "text/plain": [
       "<Figure size 432x288 with 1 Axes>"
      ]
     },
     "metadata": {},
     "output_type": "display_data"
    }
   ],
   "source": [
    "cats.value_counts().sort_index(ascending=False).plot.pie()"
   ]
  },
  {
   "cell_type": "code",
   "execution_count": null,
   "metadata": {},
   "outputs": [],
   "source": []
  }
 ],
 "metadata": {
  "kernelspec": {
   "display_name": "Python 3",
   "language": "python",
   "name": "python3"
  },
  "language_info": {
   "codemirror_mode": {
    "name": "ipython",
    "version": 3
   },
   "file_extension": ".py",
   "mimetype": "text/x-python",
   "name": "python",
   "nbconvert_exporter": "python",
   "pygments_lexer": "ipython3",
   "version": "3.7.4"
  }
 },
 "nbformat": 4,
 "nbformat_minor": 2
}
